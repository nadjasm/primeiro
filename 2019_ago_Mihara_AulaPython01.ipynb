{
 "cells": [
  {
   "cell_type": "markdown",
   "metadata": {},
   "source": [
    "# Começando com o famoso \"Hello World\""
   ]
  },
  {
   "cell_type": "code",
   "execution_count": null,
   "metadata": {},
   "outputs": [],
   "source": [
    "# Isto é um comentário\n",
    "print(\"Hello World\")"
   ]
  },
  {
   "cell_type": "code",
   "execution_count": null,
   "metadata": {},
   "outputs": [],
   "source": [
    "?print"
   ]
  },
  {
   "cell_type": "code",
   "execution_count": null,
   "metadata": {},
   "outputs": [],
   "source": [
    "# criando algumas variáveis:\n",
    "a=1\n",
    "b=3.2\n",
    "c,d = 7.9, 8"
   ]
  },
  {
   "cell_type": "code",
   "execution_count": null,
   "metadata": {},
   "outputs": [],
   "source": [
    "print(a,b, sep=' ## ', end=' ')\n",
    "print(c,d, end='$')"
   ]
  },
  {
   "cell_type": "code",
   "execution_count": null,
   "metadata": {},
   "outputs": [],
   "source": [
    "# Tipagem dinamica:\n",
    "a='bola'"
   ]
  },
  {
   "cell_type": "code",
   "execution_count": null,
   "metadata": {},
   "outputs": [],
   "source": [
    "print(a)"
   ]
  },
  {
   "cell_type": "markdown",
   "metadata": {},
   "source": [
    "# Operações aritméticas básicas"
   ]
  },
  {
   "cell_type": "raw",
   "metadata": {},
   "source": [
    "Os operadores matemáticos em Python são:\n",
    "+ (soma)\n",
    "- (subtração)\n",
    "/ (divisão)\n",
    "** (exponenciação)\n",
    "% (resto da divisão)"
   ]
  },
  {
   "cell_type": "code",
   "execution_count": null,
   "metadata": {},
   "outputs": [],
   "source": [
    "# As 4 operações:\n",
    "b+c"
   ]
  },
  {
   "cell_type": "code",
   "execution_count": null,
   "metadata": {},
   "outputs": [],
   "source": [
    "b-c"
   ]
  },
  {
   "cell_type": "code",
   "execution_count": null,
   "metadata": {},
   "outputs": [],
   "source": [
    "b*c"
   ]
  },
  {
   "cell_type": "code",
   "execution_count": null,
   "metadata": {},
   "outputs": [],
   "source": [
    "b/c"
   ]
  },
  {
   "cell_type": "code",
   "execution_count": null,
   "metadata": {},
   "outputs": [],
   "source": [
    "# Potenciação:\n",
    "b**c"
   ]
  },
  {
   "cell_type": "code",
   "execution_count": null,
   "metadata": {},
   "outputs": [],
   "source": [
    "# Expressões:\n",
    "x = b + c*d\n",
    "print(x)"
   ]
  },
  {
   "cell_type": "markdown",
   "metadata": {},
   "source": [
    "Mais abaixo veremos outras funções matemáticas."
   ]
  },
  {
   "cell_type": "markdown",
   "metadata": {},
   "source": [
    "# Estruturas Condicionais"
   ]
  },
  {
   "cell_type": "raw",
   "metadata": {},
   "source": [
    "1) A forma mais simples:\n",
    "\n",
    "if <condição>:\n",
    "    <bloco-de-comandos>\n"
   ]
  },
  {
   "cell_type": "code",
   "execution_count": null,
   "metadata": {},
   "outputs": [],
   "source": [
    "# Exemplo:\n",
    "\n",
    "x = 2.1\n",
    "\n",
    "if x > 2:\n",
    "    print(\"x maior que 2\")\n",
    "    print(\"ok\")"
   ]
  },
  {
   "cell_type": "raw",
   "metadata": {},
   "source": [
    "2) Uma forma um pouco mais complicada:\n",
    "\n",
    "if <condição>:\n",
    "    <bloco-de-comandos>\n",
    "else:\n",
    "    <outro-bloco-de-comandos>\n"
   ]
  },
  {
   "cell_type": "code",
   "execution_count": null,
   "metadata": {},
   "outputs": [],
   "source": [
    "# Exemplo:\n",
    "\n",
    "idade = 99\n",
    "\n",
    "if idade < 18:\n",
    "    print(\"menor de idade\")\n",
    "else:\n",
    "    print(\"adulto\")"
   ]
  },
  {
   "cell_type": "raw",
   "metadata": {},
   "source": [
    "3) A forma \"completa\":\n",
    "\n",
    "if <condição01>:\n",
    "    <bloco-de-comandos-1>\n",
    "elif <condição02>:\n",
    "    <bloco-de-comandos-2>   \n",
    "elif <condição03>:\n",
    "    <bloco-de-comandos-3>\n",
    "...\n",
    "        \n",
    "else:\n",
    "    <outro-bloco-de-comandos>"
   ]
  },
  {
   "cell_type": "code",
   "execution_count": null,
   "metadata": {},
   "outputs": [],
   "source": [
    "# Exemplo:\n",
    "\n",
    "idade = 100\n",
    "\n",
    "if idade < 18:\n",
    "    print(\"menor de idade\")\n",
    "elif (idade>=18 and idade<65):\n",
    "    print(\"adulto\")\n",
    "else:\n",
    "    print(\"idoso\")"
   ]
  },
  {
   "cell_type": "raw",
   "metadata": {},
   "source": [
    "Operadores Relacionais:\n",
    "\n",
    "Símb.   Significado\n",
    "<       Menor que\n",
    "<=      Menor ou igual a\n",
    ">       Maior que\n",
    ">=      Maior ou igual a\n",
    "==      Igual a\n",
    "<>      Diferente\n",
    "!=      Diferente\n"
   ]
  },
  {
   "cell_type": "raw",
   "metadata": {},
   "source": [
    "Exercícios:\n",
    "\n",
    "1) Dados a Altura (em metros) e o Peso (em kg), obter o IMC ( = índice de massa corpórea) e, de acordo com o valor obtido, apresentar o \"diagnóstico\", conforme a tabela abaixo:\n",
    "\n",
    "  IMC                Diagnóstico\n",
    "< 18.5               Peso baixo\n",
    ">= 18.5 e < 25       Peso normal\n",
    ">= 25   e < 30       Sobrepeso\n",
    ">= 30                Obesidade\n"
   ]
  },
  {
   "cell_type": "code",
   "execution_count": null,
   "metadata": {},
   "outputs": [],
   "source": [
    "# Altura em metros:\n",
    "A = 1.8\n",
    "# Peso em kg:\n",
    "P = 77\n",
    "\n",
    "IMC = P/A**2\n",
    "\n",
    "if IMC ...:\n",
    "    \n",
    "elif IMC ...:\n",
    "\n",
    "\n",
    "\n"
   ]
  },
  {
   "cell_type": "markdown",
   "metadata": {},
   "source": [
    "# Listas"
   ]
  },
  {
   "cell_type": "code",
   "execution_count": null,
   "metadata": {},
   "outputs": [],
   "source": [
    "# Criando uma lista:\n",
    "lista1 = [0, 3, 4, 1]\n",
    "print(lista1)"
   ]
  },
  {
   "cell_type": "code",
   "execution_count": null,
   "metadata": {},
   "outputs": [],
   "source": [
    "# Maior e menor elemento da lista:\n",
    "maior = max(lista1)\n",
    "menor = min(lista1)\n",
    "\n",
    "print(' maior elemento da lista = ', maior)\n",
    "print(' menor elemento da lista = ', menor)"
   ]
  },
  {
   "cell_type": "code",
   "execution_count": null,
   "metadata": {},
   "outputs": [],
   "source": [
    "# No. de elementos da lista:\n",
    "N = len(lista1)\n",
    "\n",
    "print(' número de elementos da lista = ', N)"
   ]
  },
  {
   "cell_type": "code",
   "execution_count": null,
   "metadata": {},
   "outputs": [],
   "source": [
    "# Inverte a ordem dos elementos da lista\n",
    "# (\"Os últimos serão os primeiros...\" e vice-versa!)\n",
    "lista1.reverse()\n",
    "\n",
    "print(' lista1 invertida = ', lista1)"
   ]
  },
  {
   "cell_type": "code",
   "execution_count": null,
   "metadata": {},
   "outputs": [],
   "source": [
    "# Removendo o elemento 3 da lista\n",
    "lista1.remove(3)\n",
    "\n",
    "print(' lista1 sem o elemento 3 = ', lista1)"
   ]
  },
  {
   "cell_type": "code",
   "execution_count": null,
   "metadata": {},
   "outputs": [],
   "source": [
    "print(len(lista1))"
   ]
  },
  {
   "cell_type": "code",
   "execution_count": null,
   "metadata": {},
   "outputs": [],
   "source": [
    "# Adicionando elemento no fim da lista:\n",
    "lista1.append(55)\n",
    "\n",
    "print(lista1)"
   ]
  },
  {
   "cell_type": "code",
   "execution_count": null,
   "metadata": {},
   "outputs": [],
   "source": [
    "# Acessando cada elemento da lista pelo índice:\n",
    "\n",
    "print( lista1[0] )"
   ]
  },
  {
   "cell_type": "code",
   "execution_count": null,
   "metadata": {},
   "outputs": [],
   "source": [
    "print( lista1[1] )"
   ]
  },
  {
   "cell_type": "code",
   "execution_count": null,
   "metadata": {},
   "outputs": [],
   "source": [
    "print( lista1[2] )"
   ]
  },
  {
   "cell_type": "code",
   "execution_count": null,
   "metadata": {},
   "outputs": [],
   "source": [
    "print( lista1[3] )"
   ]
  },
  {
   "cell_type": "code",
   "execution_count": null,
   "metadata": {},
   "outputs": [],
   "source": [
    "print( lista1[4] )"
   ]
  },
  {
   "cell_type": "code",
   "execution_count": null,
   "metadata": {},
   "outputs": [],
   "source": [
    "# Em Python a Lista pode ser heterogênea:\n",
    "\n",
    "L = [1, 3.209, 'bola']"
   ]
  },
  {
   "cell_type": "code",
   "execution_count": null,
   "metadata": {},
   "outputs": [],
   "source": [
    "print( L[0] )"
   ]
  },
  {
   "cell_type": "code",
   "execution_count": null,
   "metadata": {},
   "outputs": [],
   "source": [
    "print( L[1] )"
   ]
  },
  {
   "cell_type": "code",
   "execution_count": null,
   "metadata": {},
   "outputs": [],
   "source": [
    "print( L[2] )"
   ]
  },
  {
   "cell_type": "code",
   "execution_count": null,
   "metadata": {},
   "outputs": [],
   "source": []
  },
  {
   "cell_type": "markdown",
   "metadata": {},
   "source": [
    "# Estruturas de repetição:"
   ]
  },
  {
   "cell_type": "raw",
   "metadata": {},
   "source": [
    "# Os famosos \"loops\"...\n",
    "\n",
    "for <variável> in <sequência>:\n",
    "    <bloco-de-comandos>\n",
    "    "
   ]
  },
  {
   "cell_type": "code",
   "execution_count": null,
   "metadata": {},
   "outputs": [],
   "source": [
    "# Exemplo: percorre uma lista e mostrando os elementos\n",
    "\n",
    "L = [1, 3.209, 'bola']\n",
    "\n",
    "for x in L:\n",
    "    print(x)"
   ]
  },
  {
   "cell_type": "raw",
   "metadata": {},
   "source": [
    "Função range()\n",
    "\n",
    "\n",
    "range(N)   => sequencia de 0 a (N-1)\n",
    "\n",
    "range(1,N) => sequencia de 0 a (N-1)\n",
    "\n",
    "range(3,N,2) => sequencia que começa no 3, com passo 2, e qu termina antes de N \n"
   ]
  },
  {
   "cell_type": "code",
   "execution_count": null,
   "metadata": {},
   "outputs": [],
   "source": [
    "# Exemplos:\n",
    "\n",
    "N = 10\n",
    "for i in range(N):\n",
    "    print(i)"
   ]
  },
  {
   "cell_type": "code",
   "execution_count": null,
   "metadata": {},
   "outputs": [],
   "source": [
    "N = 10\n",
    "for i in range(5,N):\n",
    "    print(i)"
   ]
  },
  {
   "cell_type": "code",
   "execution_count": null,
   "metadata": {},
   "outputs": [],
   "source": [
    "N = 10\n",
    "for i in range(3,N,2):\n",
    "    print(i)"
   ]
  },
  {
   "cell_type": "code",
   "execution_count": null,
   "metadata": {},
   "outputs": [],
   "source": [
    "N = 10\n",
    "for i in range(N,2,-1):\n",
    "    print(i)"
   ]
  },
  {
   "cell_type": "code",
   "execution_count": null,
   "metadata": {},
   "outputs": [],
   "source": [
    "# Exemplo: \n",
    "\n",
    "print(' Tabuada do 7 :' )\n",
    "for i in range(1,11):\n",
    "    print(' 7 x', i, ' = ', 7*i)"
   ]
  },
  {
   "cell_type": "code",
   "execution_count": null,
   "metadata": {},
   "outputs": [],
   "source": [
    "# Exemplo: percorre uma lista pelos valores e mostra os elementos\n",
    "\n",
    "L = [1, 3.209, 'bola']\n",
    "\n",
    "for x in L:\n",
    "    print(x)"
   ]
  },
  {
   "cell_type": "code",
   "execution_count": null,
   "metadata": {},
   "outputs": [],
   "source": [
    "# Exemplo: percorre uma lista pelos indices e mostra os elementos\n",
    "\n",
    "L = [1, 3.209, 'bola']\n",
    "\n",
    "N = len(L)\n",
    "for i in range(N):\n",
    "    print(L[i])"
   ]
  },
  {
   "cell_type": "raw",
   "metadata": {},
   "source": [
    "Exercícios:\n",
    "\n",
    "1)São dadas 3 listas (abaixo) com nomes de alunos e suas respectivas notas, sendo que as notas na 1a. posição das listas “Nota1” e “Nota2” são do 1o. nome na lista “Aluno” e assim por diante:\n",
    "\n",
    "Aluno = ['Ana', 'Bia', 'Caio', 'Leo']\n",
    "Nota1 = [ 5.3 ,  7.2 ,  6.8  ,  4.9 ]\n",
    "Nota2 = [ 7.1 ,  6.0 ,  9.1  ,  9.8 ]\n",
    "\n",
    "Escreva um programa que calcula a média das notas 1 e 2 para cada aluno e escreve na tela assim:  \n",
    "\n",
    "A media de Ana foi 6.2.\n",
    "A media de Bia foi 6.6."
   ]
  },
  {
   "cell_type": "code",
   "execution_count": null,
   "metadata": {},
   "outputs": [],
   "source": [
    "# Resolva aqui:\n",
    "\n",
    "Aluno = ['Ana', 'Bia', 'Caio', 'Leo']\n",
    "Nota1 = [ 5.3 ,  7.2 ,  6.8  ,  4.9 ]\n",
    "Nota2 = [ 7.1 ,  6.0 ,  9.1  ,  9.8 ]\n",
    "\n",
    "for i in ...:\n",
    "\n"
   ]
  },
  {
   "cell_type": "raw",
   "metadata": {},
   "source": [
    "2) Dada uma lista com vários números, escreva um programa que conta quantos números pares e ímpares há na lista.\n"
   ]
  },
  {
   "cell_type": "code",
   "execution_count": null,
   "metadata": {},
   "outputs": [],
   "source": [
    "# Resolva aqui:\n",
    "\n",
    "Lista = [7, 3, 4, 1, 7, 10, 33, 12, 27, 54, 11]\n",
    "\n",
    "Npares = 0\n",
    "Nimpares = 0\n",
    "\n",
    "for x in Lista:\n",
    "    if x ...:\n",
    "    ....\n",
    "        "
   ]
  },
  {
   "cell_type": "markdown",
   "metadata": {},
   "source": [
    "# Funções:"
   ]
  },
  {
   "cell_type": "code",
   "execution_count": null,
   "metadata": {},
   "outputs": [],
   "source": [
    "# Função que retorna um valor:\n",
    "def f1(x):\n",
    "    y = 2*x+1\n",
    "    return y\n",
    "\n",
    "print(f1(1))"
   ]
  },
  {
   "cell_type": "code",
   "execution_count": null,
   "metadata": {},
   "outputs": [],
   "source": [
    "## Função que retorna mais de um valor:\n",
    "def f2(x1,x2):\n",
    "    y = 2*x1+1\n",
    "    z = x2**2\n",
    "    return y,z\n",
    "\n",
    "Y, Z = f2(1,2)\n",
    "\n",
    "print(Y)\n",
    "print(Z)"
   ]
  },
  {
   "cell_type": "code",
   "execution_count": null,
   "metadata": {},
   "outputs": [],
   "source": [
    "# Função que retorna uma lista\n",
    "\n",
    "def f3(x):\n",
    "    L=[]\n",
    "    for i in range(x):\n",
    "        L.append(i**2)\n",
    "    return L\n",
    "\n",
    "resultado = f3(4)\n",
    "\n",
    "print(resultado)"
   ]
  },
  {
   "cell_type": "code",
   "execution_count": null,
   "metadata": {},
   "outputs": [],
   "source": [
    "# Função que não retorna nada\n",
    "def Mostra(x):\n",
    "    print(x*'Oi ')\n",
    "\n",
    "Mostra(10)        "
   ]
  },
  {
   "cell_type": "raw",
   "metadata": {},
   "source": [
    "Exercícios:\n",
    "\n",
    "1) Dada uma lista com vários números, escreva uma função que devolve o menor e o maior número\n",
    "da lista."
   ]
  },
  {
   "cell_type": "code",
   "execution_count": null,
   "metadata": {},
   "outputs": [],
   "source": [
    "# Resolva aqui:\n",
    "\n",
    "Lista = [7, 3, 4, 1, 7, 10, 33, 12, 27, 54, 11]\n",
    "\n",
    "\n",
    "\n",
    "\n"
   ]
  },
  {
   "cell_type": "raw",
   "metadata": {},
   "source": [
    "2) Dada uma lista com vários números, escreva um programa que conta quantos números pares e ímpares há na lista.\n"
   ]
  },
  {
   "cell_type": "code",
   "execution_count": null,
   "metadata": {},
   "outputs": [],
   "source": [
    "# Resolva aqui:\n",
    "\n",
    "Lista = [7, 3, 4, 1, 7, 10, 33, 12, 27, 54, 11]\n",
    "\n"
   ]
  }
 ],
 "metadata": {
  "kernelspec": {
   "display_name": "Python 3",
   "language": "python",
   "name": "python3"
  },
  "language_info": {
   "codemirror_mode": {
    "name": "ipython",
    "version": 3
   },
   "file_extension": ".py",
   "mimetype": "text/x-python",
   "name": "python",
   "nbconvert_exporter": "python",
   "pygments_lexer": "ipython3",
   "version": "3.6.8"
  }
 },
 "nbformat": 4,
 "nbformat_minor": 2
}
